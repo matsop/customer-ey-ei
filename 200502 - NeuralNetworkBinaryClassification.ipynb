{
 "cells": [
  {
   "cell_type": "markdown",
   "metadata": {},
   "source": [
    "Neben den standardmäßigen Packages zur Datenbearbeitung und Visualisierung benötigen wir sklearn zum Pre- und Postprocessing der Trainings- und Testdaten sowie die Packages für die Nutzung von Neuronalen Netzen, tensorflow und keras.\n",
    "\n",
    "Wir importieren den Datensatz und verschaffen uns einen Überblick."
   ]
  },
  {
   "cell_type": "code",
   "execution_count": 1,
   "metadata": {},
   "outputs": [
    {
     "name": "stdout",
     "output_type": "stream",
     "text": [
      "   Daily Time Spent on Site  Age  Area Income  Daily Internet Usage  \\\n",
      "0                     68.95   35     61833.90                256.09   \n",
      "1                     80.23   31     68441.85                193.77   \n",
      "2                     69.47   26     59785.94                236.50   \n",
      "3                     74.15   29     54806.18                245.89   \n",
      "4                     68.37   35     73889.99                225.58   \n",
      "\n",
      "                           Ad Topic Line            City  Male     Country  \\\n",
      "0     Cloned 5thgeneration orchestration     Wrightburgh     0     Tunisia   \n",
      "1     Monitored national standardization       West Jodi     1       Nauru   \n",
      "2       Organic bottom-line service-desk        Davidton     0  San Marino   \n",
      "3  Triple-buffered reciprocal time-frame  West Terrifurt     1       Italy   \n",
      "4          Robust logistical utilization    South Manuel     0     Iceland   \n",
      "\n",
      "             Timestamp  Clicked on Ad  \n",
      "0  2016-03-27 00:53:11              0  \n",
      "1  2016-04-04 01:39:02              0  \n",
      "2  2016-03-13 20:35:42              0  \n",
      "3  2016-01-10 02:31:19              0  \n",
      "4  2016-06-03 03:36:18              0  \n",
      "\n",
      " Czech Republic    9\n",
      "France            9\n",
      "Afghanistan       8\n",
      "South Africa      8\n",
      "Liberia           8\n",
      "                 ..\n",
      "Kiribati          1\n",
      "Slovenia          1\n",
      "Bermuda           1\n",
      "Lesotho           1\n",
      "Jordan            1\n",
      "Name: Country, Length: 237, dtype: int64\n",
      "\n",
      " Lisamouth           3\n",
      "Williamsport        3\n",
      "New Jessicaport     2\n",
      "East John           2\n",
      "Pamelamouth         2\n",
      "                   ..\n",
      "Lake Kevin          1\n",
      "Jessicahaven        1\n",
      "Wendyton            1\n",
      "North Aaronburgh    1\n",
      "East Maureen        1\n",
      "Name: City, Length: 969, dtype: int64\n"
     ]
    }
   ],
   "source": [
    "# import packages\n",
    "# hide warnings\n",
    "import warnings\n",
    "warnings.filterwarnings('ignore')\n",
    "\n",
    "# data handling\n",
    "import pandas as pd\n",
    "import numpy as np\n",
    "import datetime as dt\n",
    "\n",
    "# visualization\n",
    "%matplotlib inline\n",
    "import matplotlib.pyplot as plt\n",
    "import seaborn as sns\n",
    "from IPython.display import Image\n",
    "\n",
    "# pre- and postprocessing\n",
    "from sklearn.preprocessing import MinMaxScaler\n",
    "from sklearn.model_selection import train_test_split\n",
    "from sklearn.metrics import confusion_matrix\n",
    "\n",
    "# neural network classification\n",
    "from tensorflow import keras\n",
    "from tensorflow.keras.models import Sequential\n",
    "from tensorflow.keras.layers import Dense\n",
    "\n",
    "# ensure reproducable results\n",
    "from numpy.random import seed\n",
    "from tensorflow import set_random_seed\n",
    "seed(1)\n",
    "set_random_seed(2) \n",
    "\n",
    "# read data\n",
    "df_raw_data = pd.read_csv('advertising.csv')\n",
    "\n",
    "print(df_raw_data.head())\n",
    "\n",
    "print('\\n', df_raw_data['Country'].value_counts())\n",
    "\n",
    "print('\\n', df_raw_data['City'].value_counts())"
   ]
  },
  {
   "cell_type": "markdown",
   "metadata": {},
   "source": [
    "Da wir keine Textverarbeitung in das Modell integrieren wollen und da die verschiedenen ortsbezognenen Informationen \"Country\" und \"City\" zu selten vorkommen um einen Zusammenhang daraus schließen zu können, reduzieren wir den Datensatz und verwenden nur einige der gegebenen Informationen. Die verbleibenden Daten betrachten wir noch etwas genauer."
   ]
  },
  {
   "cell_type": "code",
   "execution_count": 2,
   "metadata": {},
   "outputs": [
    {
     "name": "stdout",
     "output_type": "stream",
     "text": [
      "<class 'pandas.core.frame.DataFrame'>\n",
      "RangeIndex: 1000 entries, 0 to 999\n",
      "Data columns (total 7 columns):\n",
      " #   Column                    Non-Null Count  Dtype  \n",
      "---  ------                    --------------  -----  \n",
      " 0   Daily Time Spent on Site  1000 non-null   float64\n",
      " 1   Age                       1000 non-null   int64  \n",
      " 2   Area Income               1000 non-null   float64\n",
      " 3   Daily Internet Usage      1000 non-null   float64\n",
      " 4   Male                      1000 non-null   int64  \n",
      " 5   Timestamp                 1000 non-null   object \n",
      " 6   Clicked on Ad             1000 non-null   int64  \n",
      "dtypes: float64(3), int64(3), object(1)\n",
      "memory usage: 54.8+ KB\n",
      "\n",
      " None\n",
      "\n",
      "        Daily Time Spent on Site          Age   Area Income  \\\n",
      "count               1000.000000  1000.000000   1000.000000   \n",
      "mean                  65.000200    36.009000  55000.000080   \n",
      "std                   15.853615     8.785562  13414.634022   \n",
      "min                   32.600000    19.000000  13996.500000   \n",
      "25%                   51.360000    29.000000  47031.802500   \n",
      "50%                   68.215000    35.000000  57012.300000   \n",
      "75%                   78.547500    42.000000  65470.635000   \n",
      "max                   91.430000    61.000000  79484.800000   \n",
      "\n",
      "       Daily Internet Usage         Male  Clicked on Ad  \n",
      "count           1000.000000  1000.000000     1000.00000  \n",
      "mean             180.000100     0.481000        0.50000  \n",
      "std               43.902339     0.499889        0.50025  \n",
      "min              104.780000     0.000000        0.00000  \n",
      "25%              138.830000     0.000000        0.00000  \n",
      "50%              183.130000     0.000000        0.50000  \n",
      "75%              218.792500     1.000000        1.00000  \n",
      "max              269.960000     1.000000        1.00000  \n"
     ]
    }
   ],
   "source": [
    "# select columns\n",
    "df_filtered = df_raw_data.drop(columns=['Ad Topic Line','Country','City'])\n",
    "\n",
    "# detailed info\n",
    "print('\\n', df_filtered.info())\n",
    "print('\\n', df_filtered.describe())"
   ]
  },
  {
   "cell_type": "markdown",
   "metadata": {},
   "source": [
    "Es gibt 1000 Samples in unserem Datensatz, keine fehlenden Einträge und genau 50% der Nutzer haben die Werbung angeklickt (\"Clicked on Ad\" = 1).\n",
    "\n",
    "Mit dem datetime Package lesen wir die Stunde aus dem \"Timestamp\" aus und behalten diese als einzige datumsbezogene Information. Außerdem skalieren wir die Input Daten mittels MinMax-Skalierung. Welchen Effekt dieser Skalierungsschritt hat, analysieren wir später."
   ]
  },
  {
   "cell_type": "code",
   "execution_count": 3,
   "metadata": {},
   "outputs": [
    {
     "name": "stdout",
     "output_type": "stream",
     "text": [
      "       Daily Time Spent on Site          Age  Area Income  \\\n",
      "count               1000.000000  1000.000000  1000.000000   \n",
      "mean                   0.550743     0.404976     0.626119   \n",
      "std                    0.269482     0.209180     0.204840   \n",
      "min                    0.000000     0.000000     0.000000   \n",
      "25%                    0.318885     0.238095     0.504446   \n",
      "50%                    0.605388     0.380952     0.656847   \n",
      "75%                    0.781022     0.547619     0.786005   \n",
      "max                    1.000000     1.000000     1.000000   \n",
      "\n",
      "       Daily Internet Usage         Male  Clicked on Ad         Hour  \n",
      "count           1000.000000  1000.000000     1000.00000  1000.000000  \n",
      "mean               0.455383     0.481000        0.50000     0.506957  \n",
      "std                0.265785     0.499889        0.50025     0.302650  \n",
      "min                0.000000     0.000000        0.00000     0.000000  \n",
      "25%                0.206139     0.000000        0.00000     0.260870  \n",
      "50%                0.474331     0.000000        0.50000     0.521739  \n",
      "75%                0.690232     1.000000        1.00000     0.782609  \n",
      "max                1.000000     1.000000        1.00000     1.000000  \n"
     ]
    }
   ],
   "source": [
    "# extract hour\n",
    "df_filtered['Timestamp'] = pd.to_datetime(df_filtered['Timestamp'])\n",
    "df_filtered['Hour'] = df_filtered['Timestamp'].dt.hour\n",
    "\n",
    "df_filtered = df_filtered.drop(columns=['Timestamp'])\n",
    "\n",
    "# min-max-scaling\n",
    "df_filtered_scaled = df_filtered.copy()\n",
    "scaled_columns = ['Daily Time Spent on Site', 'Age', 'Area Income','Daily Internet Usage','Hour']\n",
    "\n",
    "scaler = MinMaxScaler()\n",
    "for i in scaled_columns:\n",
    "    df_filtered_scaled[i] = scaler.fit_transform(df_filtered[i].values.reshape(-1,1))\n",
    "    \n",
    "print(df_filtered_scaled.describe())"
   ]
  },
  {
   "cell_type": "markdown",
   "metadata": {},
   "source": [
    "In diesem Setting sind die getätigten Klicks auf die Werbeanzeige unsere gelabelted Daten bzw. die abhängige Variable, die wir vorhersagen wollen. Wir teilen unseren Datensatz auf in Training- und Testdaten."
   ]
  },
  {
   "cell_type": "code",
   "execution_count": 4,
   "metadata": {},
   "outputs": [],
   "source": [
    "# define input data and labeled output data\n",
    "X = df_filtered_scaled.drop(columns=['Clicked on Ad']).values.astype('float')\n",
    "y = df_filtered_scaled['Clicked on Ad'].values\n",
    "\n",
    "# split train and test data\n",
    "X_train, X_test, y_train, y_test = train_test_split(X, y, test_size=0.33, random_state=1)"
   ]
  },
  {
   "cell_type": "markdown",
   "metadata": {},
   "source": [
    "Nun initialisieren wir das Neuronale Netz mit einem Hidden Layern, bestehend aus vier Neuronen mit \"Rectifier Linear Unit\" Aktivierungsfunktion. Da ein binäres Klassifikationsproblem vorliegt, besteht das Output Layer aus nur einem Neuron mit einer \"Sigmoid\" Aktivierungsfunktion. Entsprechend unserer sechs Features, hat auch das Inputlayer sechs Neuronen. Folgende Abbildung visualisiert die Netzwerkstruktur von \"model_1\"."
   ]
  },
  {
   "cell_type": "code",
   "execution_count": 5,
   "metadata": {},
   "outputs": [
    {
     "data": {
      "image/png": "[encoded data removed]",
      "text/plain": [
       "<IPython.core.display.Image object>"
      ]
     },
     "execution_count": 5,
     "metadata": {},
     "output_type": "execute_result"
    }
   ],
   "source": [
    "Image('network_architecture_model_1.png')"
   ]
  },
  {
   "cell_type": "markdown",
   "metadata": {},
   "source": [
    "Mit 'compile()' geben wir an, welcher Optimierungsalgorithmus und welches Fehlermaß verwendet werden. Außerdem wird spezifiziert, welche Metriken während des Trainingsprozesses erfasst werden sollen. Wir möchten wissen, wieviele der Trainingsbeispiel über die Epochen richtig klassifiziert wurden.\n",
    "\n",
    "Für das eigentlichen Lernen, welches durch \"model.fit()\" angestoßen wird, setzten wir noch einige Hyperparameter. Der Parameter \"epochs\" gibt an, wie häufig der gesamte Datensatz durchlaufen wird, was gleichbedeutend mit der Anzahl der Updates eines Neuronengewichts im Laufe des Lernprozesses ist. Der Trainingsdatensatz wird allerdings in jeder dieser Epochen nicht als Ganzes verarbeitet, sondern wiederum in mehrere Batches unterteilt. Jeder dieser Batches hat dabei die angegebene \"batch_size\" an Trainingsbeispielen."
   ]
  },
  {
   "cell_type": "code",
   "execution_count": 6,
   "metadata": {},
   "outputs": [
    {
     "name": "stdout",
     "output_type": "stream",
     "text": [
      "WARNING:tensorflow:From C:\\ProgramData\\Anaconda3\\lib\\site-packages\\tensorflow\\python\\ops\\init_ops.py:1251: calling VarianceScaling.__init__ (from tensorflow.python.ops.init_ops) with dtype is deprecated and will be removed in a future version.\n",
      "Instructions for updating:\n",
      "Call initializer instance with the dtype argument instead of passing it to the constructor\n",
      "WARNING:tensorflow:From C:\\ProgramData\\Anaconda3\\lib\\site-packages\\tensorflow\\python\\ops\\nn_impl.py:180: add_dispatch_support.<locals>.wrapper (from tensorflow.python.ops.array_ops) is deprecated and will be removed in a future version.\n",
      "Instructions for updating:\n",
      "Use tf.where in 2.0, which has the same broadcast rule as np.where\n",
      "Train on 670 samples, validate on 330 samples\n",
      "Epoch 1/20\n",
      "670/670 - 0s - loss: 0.8176 - acc: 0.4940 - val_loss: 0.7745 - val_acc: 0.5121\n",
      "Epoch 2/20\n",
      "670/670 - 0s - loss: 0.7834 - acc: 0.4940 - val_loss: 0.7471 - val_acc: 0.5121\n",
      "Epoch 3/20\n",
      "670/670 - 0s - loss: 0.7546 - acc: 0.4940 - val_loss: 0.7237 - val_acc: 0.5121\n",
      "Epoch 4/20\n",
      "670/670 - 0s - loss: 0.7300 - acc: 0.4955 - val_loss: 0.7043 - val_acc: 0.5121\n",
      "Epoch 5/20\n",
      "670/670 - 0s - loss: 0.7101 - acc: 0.5000 - val_loss: 0.6881 - val_acc: 0.5364\n",
      "Epoch 6/20\n",
      "670/670 - 0s - loss: 0.6925 - acc: 0.5149 - val_loss: 0.6753 - val_acc: 0.5515\n",
      "Epoch 7/20\n",
      "670/670 - 0s - loss: 0.6785 - acc: 0.5537 - val_loss: 0.6648 - val_acc: 0.5848\n",
      "Epoch 8/20\n",
      "670/670 - 0s - loss: 0.6665 - acc: 0.5791 - val_loss: 0.6557 - val_acc: 0.6121\n",
      "Epoch 9/20\n",
      "670/670 - 0s - loss: 0.6563 - acc: 0.6030 - val_loss: 0.6480 - val_acc: 0.6515\n",
      "Epoch 10/20\n",
      "670/670 - 0s - loss: 0.6469 - acc: 0.6552 - val_loss: 0.6412 - val_acc: 0.6788\n",
      "Epoch 11/20\n",
      "670/670 - 0s - loss: 0.6391 - acc: 0.6910 - val_loss: 0.6351 - val_acc: 0.7061\n",
      "Epoch 12/20\n",
      "670/670 - 0s - loss: 0.6319 - acc: 0.7194 - val_loss: 0.6296 - val_acc: 0.7273\n",
      "Epoch 13/20\n",
      "670/670 - 0s - loss: 0.6251 - acc: 0.7463 - val_loss: 0.6244 - val_acc: 0.7333\n",
      "Epoch 14/20\n",
      "670/670 - 0s - loss: 0.6192 - acc: 0.7896 - val_loss: 0.6194 - val_acc: 0.7667\n",
      "Epoch 15/20\n",
      "670/670 - 0s - loss: 0.6133 - acc: 0.7985 - val_loss: 0.6145 - val_acc: 0.7727\n",
      "Epoch 16/20\n",
      "670/670 - 0s - loss: 0.6078 - acc: 0.8045 - val_loss: 0.6094 - val_acc: 0.7667\n",
      "Epoch 17/20\n",
      "670/670 - 0s - loss: 0.6022 - acc: 0.8104 - val_loss: 0.6043 - val_acc: 0.7788\n",
      "Epoch 18/20\n",
      "670/670 - 0s - loss: 0.5965 - acc: 0.8134 - val_loss: 0.5991 - val_acc: 0.7848\n",
      "Epoch 19/20\n",
      "670/670 - 0s - loss: 0.5907 - acc: 0.8224 - val_loss: 0.5933 - val_acc: 0.7818\n",
      "Epoch 20/20\n",
      "670/670 - 0s - loss: 0.5846 - acc: 0.8313 - val_loss: 0.5874 - val_acc: 0.7879\n"
     ]
    },
    {
     "data": {
      "text/plain": [
       "<matplotlib.legend.Legend at 0x127b0e88>"
      ]
     },
     "execution_count": 6,
     "metadata": {},
     "output_type": "execute_result"
    },
    {
     "data": {
      "image/png": "[encoded data removed]",
      "text/plain": [
       "<Figure size 432x288 with 1 Axes>"
      ]
     },
     "metadata": {
      "needs_background": "light"
     },
     "output_type": "display_data"
    }
   ],
   "source": [
    "# build model\n",
    "model_1 = keras.Sequential()\n",
    "\n",
    "model_1.add(Dense(4, input_dim=X.shape[1], activation='relu'))\n",
    "model_1.add(Dense(1, activation='sigmoid'))\n",
    "    \n",
    "model_1.compile(optimizer='adam',\n",
    "          loss='binary_crossentropy',\n",
    "          metrics=['accuracy'])\n",
    "\n",
    "# fit model\n",
    "history_1 = model_1.fit(X_train, y_train, epochs=20, verbose=2, batch_size=50,\n",
    "                    shuffle=True, validation_data=(X_test, y_test))\n",
    "\n",
    "# visualize learning progress\n",
    "plt.figure()\n",
    "plt.plot(history_1.history['loss'])\n",
    "plt.plot(history_1.history['val_loss'])\n",
    "plt.ylabel('loss')\n",
    "plt.xlabel('epoch')\n",
    "plt.legend(['train', 'test'], loc='upper left')"
   ]
  },
  {
   "cell_type": "markdown",
   "metadata": {},
   "source": [
    "Dieser Plot visualisiert den Verlauf des Fehlers für Trainings- und Testdaten über die Epochen. Beide Kurven fallen, ohne gegen einen Grenzwert zu laufen, was dafür spricht, dass das Modell mit mit höherer Anzahl an Epochen noch weiter verbessert werden kann. Ein Fallen des Trainingsfehlers bei gleichzeitigem Anstieg des Testfehlers würde für ein Overfitting sprechen, wird aber hier nicht beobachtet.\n",
    "\n",
    "Am Relevantesten ist, wie gut das Modell zur Vorhersage von Daten außerhalb der Trainingsdatenmenge geeignet ist. Zum einen können wir auch für die Testdaten die Genauigkeit durch Evaluation des Neuronalen Netzes angeben, zum anderen hilft die Confusion Matrix bei der Analyse der Vorhersagen."
   ]
  },
  {
   "cell_type": "code",
   "execution_count": 7,
   "metadata": {},
   "outputs": [
    {
     "name": "stdout",
     "output_type": "stream",
     "text": [
      "\n",
      "test accuracy model_1: 0.7878788\n"
     ]
    },
    {
     "data": {
      "image/png": "[encoded data removed]",
      "text/plain": [
       "<Figure size 144x144 with 2 Axes>"
      ]
     },
     "metadata": {
      "needs_background": "light"
     },
     "output_type": "display_data"
    },
    {
     "name": "stdout",
     "output_type": "stream",
     "text": [
      "test samples: 330\n"
     ]
    }
   ],
   "source": [
    "# evaluate accuracy on test data\n",
    "test_loss_1, test_acc_1 = model_1.evaluate(X_test, y_test, verbose=0)\n",
    "print('\\ntest accuracy model_1:', test_acc_1)\n",
    "\n",
    "# list for accuracies of different models\n",
    "accuracies = [test_acc_1]\n",
    "\n",
    "# confusion matrix\n",
    "y_test_pred_1 = model_1.predict_classes(X_test)\n",
    "\n",
    "confusion_matrix_array_1 = confusion_matrix(y_test, y_test_pred_1)\n",
    "\n",
    "figure = plt.figure(figsize=(2, 2))\n",
    "sns.heatmap(confusion_matrix_array_1, annot=True, cmap='Blues', fmt='g')\n",
    "plt.tight_layout()\n",
    "plt.ylabel('true')\n",
    "plt.xlabel('predicted')\n",
    "plt.show()\n",
    "\n",
    "print('test samples:', len(y_test))"
   ]
  },
  {
   "cell_type": "markdown",
   "metadata": {},
   "source": [
    "Die Genauigkeit der Vorhersagen auf den Testdaten ist also 78.8%. Die Confusion Matrix gibt Aufschluss darüber, dass 66 der Beobachtungen mit tatsächlichem Klick auf die Werbung als Nicht-Klicks klassifiziert wurden, dies sind die False Negative Klassifikationen. Vier der Nicht-Klicks wurden fälschlicherweise als Klick, als False Positive, prognostiziert. Diese 70 Fehler entsprechen genau den fehlenden 21.3% für eine 100%-ige Genauigkeit. Die richtig klassifizierten Samples sind 103 True Positive und 157 True Negative Klassifikationen."
   ]
  },
  {
   "cell_type": "markdown",
   "metadata": {},
   "source": [
    "Um den Einfluss der Struktur eines Neuronalen Netzes und den einiger Hyperparameter zu demonstrieren, lernen wir im Folgenden drei weitere Neuronale Netze an und vergleichen den Lernprozess sowie die Prädiktionsgüte. Zunächst erhöhen wir lediglich die Anzahl der Epochen von 20 auf 100."
   ]
  },
  {
   "cell_type": "code",
   "execution_count": 8,
   "metadata": {},
   "outputs": [
    {
     "name": "stdout",
     "output_type": "stream",
     "text": [
      "\n",
      "test accuracy model_2: 0.93939394\n"
     ]
    }
   ],
   "source": [
    "# same seed for reproducable and comparable results\n",
    "seed(1)\n",
    "set_random_seed(2) \n",
    "\n",
    "# build model with more epochs\n",
    "model_2 = keras.Sequential()\n",
    "\n",
    "model_2.add(Dense(4, input_dim=X.shape[1], activation='relu'))\n",
    "model_2.add(Dense(1, activation='sigmoid'))\n",
    "    \n",
    "model_2.compile(optimizer='adam',\n",
    "          loss='binary_crossentropy',\n",
    "          metrics=['accuracy'])\n",
    "\n",
    "# fit model\n",
    "history_2 = model_2.fit(X_train, y_train, epochs=100, verbose=0, batch_size=50,\n",
    "                    shuffle=True, validation_data=(X_test, y_test))\n",
    "\n",
    "# evaluate accuracy on test data\n",
    "test_loss_2, test_acc_2 = model_2.evaluate(X_test, y_test, verbose=0)\n",
    "\n",
    "# predict test data\n",
    "y_test_pred_2 = model_2.predict_classes(X_test)\n",
    "\n",
    "confusion_matrix_array_2 = confusion_matrix(y_test, y_test_pred_2)\n",
    "\n",
    "accuracies.append(test_acc_2)\n",
    "print('\\ntest accuracy model_2:', test_acc_2)"
   ]
  },
  {
   "cell_type": "markdown",
   "metadata": {},
   "source": [
    "Durch die zusätzlichen Epochen im Lernprozess, konnte die Genauigkeit deutlich gesteigert werden. Für \"model_3\" fügen wir nun ein weiteres Layer hinzu und übernehmen die Anzahl der Epochen von 100 wie bei \"model_2\". Folgende Abbildung visualisiert die Netzwerkstruktur von \"model_3\"."
   ]
  },
  {
   "cell_type": "code",
   "execution_count": 9,
   "metadata": {},
   "outputs": [
    {
     "data": {
      "image/png": "[encoded data removed]",
      "text/plain": [
       "<IPython.core.display.Image object>"
      ]
     },
     "execution_count": 9,
     "metadata": {},
     "output_type": "execute_result"
    }
   ],
   "source": [
    "Image('network_architecture_model_3.png')"
   ]
  },
  {
   "cell_type": "code",
   "execution_count": 10,
   "metadata": {},
   "outputs": [
    {
     "name": "stdout",
     "output_type": "stream",
     "text": [
      "\n",
      "test accuracy model_3: 0.94545454\n"
     ]
    }
   ],
   "source": [
    "# same seed for reproducable and comparable results\n",
    "seed(1)\n",
    "set_random_seed(2) \n",
    "\n",
    "# build model with one additional layer\n",
    "model_3 = keras.Sequential()\n",
    "\n",
    "model_3.add(Dense(4, input_dim=X.shape[1], activation='relu'))\n",
    "model_3.add(Dense(4, activation='relu'))\n",
    "model_3.add(Dense(1, activation='sigmoid'))\n",
    "    \n",
    "model_3.compile(optimizer='adam',\n",
    "          loss='binary_crossentropy',\n",
    "          metrics=['accuracy'])\n",
    "\n",
    "# fit model\n",
    "history_3 = model_3.fit(X_train, y_train, epochs=100, verbose=0, batch_size=50,\n",
    "                    shuffle=True, validation_data=(X_test, y_test))\n",
    "\n",
    "# evaluate accuracy on test data\n",
    "test_loss_3, test_acc_3 = model_3.evaluate(X_test, y_test, verbose=0)\n",
    "\n",
    "# predict test data\n",
    "y_test_pred_3 = model_3.predict_classes(X_test)\n",
    "\n",
    "confusion_matrix_array_3 = confusion_matrix(y_test, y_test_pred_3)\n",
    "\n",
    "accuracies.append(test_acc_3)\n",
    "print('\\ntest accuracy model_3:', test_acc_3)"
   ]
  },
  {
   "cell_type": "markdown",
   "metadata": {},
   "source": [
    "Das zusätzliche Layer im Neuronalen Netz konnte keine signifikante Steigerung erwirken. In der letzten Variante, ist der Aufbau und die Wahl der Hyperparameter wie bei dem zuletzt trainierten \"model_3\", allerdings werden die Daten nicht wie oben zunächst einer MinMax-Skalierung unterzogen."
   ]
  },
  {
   "cell_type": "code",
   "execution_count": 11,
   "metadata": {},
   "outputs": [
    {
     "name": "stdout",
     "output_type": "stream",
     "text": [
      "\n",
      "test accuracy model_4: 0.4878788\n"
     ]
    }
   ],
   "source": [
    "# same seed for reproducable and comparable results\n",
    "seed(1)\n",
    "set_random_seed(2)\n",
    "\n",
    "# define input data and labeled output data\n",
    "X = df_filtered.drop(columns=['Clicked on Ad']).values.astype('float')\n",
    "y = df_filtered['Clicked on Ad'].values\n",
    "\n",
    "# split train and test data\n",
    "X_train, X_test, y_train, y_test = train_test_split(X, y, test_size=0.33, random_state=1)\n",
    "\n",
    "# build model with one additional layer\n",
    "model_4 = keras.Sequential()\n",
    "\n",
    "model_4.add(Dense(4, input_dim=X.shape[1], activation='relu'))\n",
    "model_4.add(Dense(4, activation='relu'))\n",
    "model_4.add(Dense(1, activation='sigmoid'))\n",
    "    \n",
    "model_4.compile(optimizer='adam',\n",
    "          loss='binary_crossentropy',\n",
    "          metrics=['accuracy'])\n",
    "\n",
    "# fit model\n",
    "history_4 = model_4.fit(X_train, y_train, epochs=100, verbose=0, batch_size=50,\n",
    "                    shuffle=True, validation_data=(X_test, y_test))\n",
    "\n",
    "# evaluate accuracy on test data\n",
    "test_loss_4, test_acc_4 = model_4.evaluate(X_test, y_test, verbose=0)\n",
    "\n",
    "# predict test data\n",
    "y_test_pred_4 = model_4.predict_classes(X_test)\n",
    "\n",
    "confusion_matrix_array_4 = confusion_matrix(y_test, y_test_pred_4)\n",
    "\n",
    "accuracies.append(test_acc_4)\n",
    "print('\\ntest accuracy model_4:', test_acc_4)"
   ]
  },
  {
   "cell_type": "code",
   "execution_count": 12,
   "metadata": {},
   "outputs": [
    {
     "name": "stdout",
     "output_type": "stream",
     "text": [
      "accuracies: [0.79 0.94 0.95 0.49]\n"
     ]
    },
    {
     "data": {
      "image/png": "[encoded data removed]",
      "text/plain": [
       "<Figure size 432x288 with 8 Axes>"
      ]
     },
     "metadata": {
      "needs_background": "light"
     },
     "output_type": "display_data"
    }
   ],
   "source": [
    "# create subplots\n",
    "fig, axes = plt.subplots(4,2)\n",
    "\n",
    "# learning progress\n",
    "axes[0,0].plot(history_1.history['loss'])\n",
    "axes[0,0].plot(history_1.history['val_loss'])\n",
    "\n",
    "axes[1,0].plot(history_2.history['loss'])\n",
    "axes[1,0].plot(history_2.history['val_loss'])\n",
    "\n",
    "axes[2,0].plot(history_3.history['loss'])\n",
    "axes[2,0].plot(history_3.history['val_loss'])\n",
    "\n",
    "axes[3,0].plot(history_4.history['loss'])\n",
    "axes[3,0].plot(history_4.history['val_loss'])\n",
    "\n",
    "# confusion matrices\n",
    "sns.heatmap(confusion_matrix_array_1, ax=axes[0,1], annot=True, cmap='Blues', cbar=False, fmt='g')\n",
    "sns.heatmap(confusion_matrix_array_2, ax=axes[1,1], annot=True, cmap='Blues', cbar=False, fmt='g')\n",
    "sns.heatmap(confusion_matrix_array_3, ax=axes[2,1], annot=True, cmap='Blues', cbar=False, fmt='g')\n",
    "sns.heatmap(confusion_matrix_array_4, ax=axes[3,1], annot=True, cmap='Blues', cbar=False, fmt='g')\n",
    "\n",
    "print('accuracies:', np.round(accuracies,2))"
   ]
  },
  {
   "cell_type": "markdown",
   "metadata": {},
   "source": [
    "Durch die Erhöhung der Anzahl an Epochen im Lernprozess konnte eine Steigerung der Genauigkeit von 79% auf 94% erzielt werden. In diesem Fall hatte die Vergrößerung des Neuronalen Netzes durch ein zusätzliches Layer mit einer Steigerung i.H.v. 1%-Punkt nur einen geringen zusätzlichen positiven Einfluss. Ohne die MinMax-Skalierung gelingt es dem Algorithmus nicht die Gewichte des Neuronalen Netzes so anzupassen, dass die Genauigkeit der Vorhersagen höher als eine zufällige Prognose ist."
   ]
  }
 ],
 "metadata": {
  "kernelspec": {
   "display_name": "Python 3",
   "language": "python",
   "name": "python3"
  },
  "language_info": {
   "codemirror_mode": {
    "name": "ipython",
    "version": 3
   },
   "file_extension": ".py",
   "mimetype": "text/x-python",
   "name": "python",
   "nbconvert_exporter": "python",
   "pygments_lexer": "ipython3",
   "version": "3.7.6"
  }
 },
 "nbformat": 4,
 "nbformat_minor": 2
}
