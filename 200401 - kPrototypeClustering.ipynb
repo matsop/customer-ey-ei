{
 "cells": [
  {
   "cell_type": "markdown",
   "metadata": {},
   "source": [
    "Wir beginnen mit dem Importieren der notwendigen Packages und Daten. Wie oben bereits kurz erwähnt, handelt es sich um den Datensatz einer Bank mit der Auflistung von vergebenen Krediten und den jeweiligen Kunden."
   ]
  },
  {
   "cell_type": "code",
   "execution_count": 1,
   "metadata": {},
   "outputs": [
    {
     "name": "stdout",
     "output_type": "stream",
     "text": [
      "samples: 1000 \n",
      "\n",
      "['Unnamed: 0', 'Age', 'Sex', 'Job', 'Housing', 'Saving accounts', 'Checking account', 'Credit amount', 'Duration', 'Purpose'] \n",
      "\n",
      "   Unnamed: 0  Age     Sex  Job Housing Saving accounts Checking account  \\\n",
      "0           0   67    male    2     own             NaN           little   \n",
      "1           1   22  female    2     own          little         moderate   \n",
      "2           2   49    male    1     own          little              NaN   \n",
      "3           3   45    male    2    free          little           little   \n",
      "4           4   53    male    2    free          little           little   \n",
      "\n",
      "   Credit amount  Duration              Purpose  \n",
      "0           1169         6             radio/TV  \n",
      "1           5951        48             radio/TV  \n",
      "2           2096        12            education  \n",
      "3           7882        42  furniture/equipment  \n",
      "4           4870        24                  car  \n"
     ]
    }
   ],
   "source": [
    "# import packages\n",
    "import pandas as pd\n",
    "from kmodes.kprototypes import KPrototypes\n",
    "\n",
    "# read data\n",
    "df_raw_data = pd.read_csv(\"german_credit_data.csv\")\n",
    "\n",
    "print(\"samples:\", len(df_raw_data), \"\\n\")\n",
    "\n",
    "print(list(df_raw_data.columns), \"\\n\")\n",
    "\n",
    "print(df_raw_data.head())"
   ]
  },
  {
   "cell_type": "markdown",
   "metadata": {},
   "source": [
    "Unser Datensatz hat 1000 Einträge, wobei jeder dieser Einträge mehrere Attribute, wie z.B. Alter, Geschlecht oder Höhe des vergebenen Kredits besitzt. Bevor wir uns dem eigentlichen Datensatz widmen, möchten wir uns aber mit der Methodik etwas besser vertraut machen. Daher erzeugen wir uns einen Test-Datensatz, in dem nur die Attribute Alter, Geschlecht und Wohnsituation vorhanden sind. Außerdem manipulieren wir den Datensatz so, dass alle Frauen das Alter 30 haben und in einem Eigenheim wohnen. Alle Männer sind 40 Jahre alt und wohnen zur Miete. Dieser Test-Datensatz sollte also bei Anwendung des k-Prototype Clustering Verfahrens und bei k=2 Clustern in genau diese beiden Cluster \"30 Jahre alte Frauen mit Eigenheim\" und \"40 Jahre alte Männer, die zur Miete wohnen\" unterteilt werden."
   ]
  },
  {
   "cell_type": "code",
   "execution_count": 2,
   "metadata": {},
   "outputs": [
    {
     "name": "stdout",
     "output_type": "stream",
     "text": [
      "   Age     Sex Housing\n",
      "0   40    male    rent\n",
      "1   30  female     own\n",
      "2   40    male    rent\n",
      "3   40    male    rent\n",
      "4   40    male    rent\n"
     ]
    }
   ],
   "source": [
    "# delete first columns with index\n",
    "df_test = df_raw_data.drop(df_raw_data.columns[0], axis=1)\n",
    "\n",
    "# select columns\n",
    "df_test = df_test[['Age','Sex','Housing']]\n",
    "\n",
    "# set test values\n",
    "df_test.loc[df_test['Sex'] == 'female', ['Housing', 'Age']] = ['own', 30]\n",
    "df_test.loc[df_test['Sex'] == 'male', ['Housing', 'Age']] = ['rent', 40]\n",
    "\n",
    "print(df_test.head())"
   ]
  },
  {
   "cell_type": "markdown",
   "metadata": {},
   "source": [
    "Für den k-Prototype Algorythmus müssen wir angeben, welche der Attribute (Spalten) numerische Daten und welche kategorische Daten enthalten. Wir definieren weiterhin, dass wir k=2 Cluster bilden möchten. Nach der Clusterbildung fügen wir die Information der Clusterzugehörigkeit der Test-Daten hinzu. "
   ]
  },
  {
   "cell_type": "code",
   "execution_count": 3,
   "metadata": {},
   "outputs": [
    {
     "name": "stdout",
     "output_type": "stream",
     "text": [
      "Init: initializing centroids\n",
      "Init: initializing clusters\n",
      "Starting iterations...\n",
      "Run: 1, iteration: 1/0, moves: 0, ncost: 0.0\n",
      "\n",
      "    Age     Sex Housing  Cluster\n",
      "0   40    male    rent        0\n",
      "1   30  female     own        1\n",
      "2   40    male    rent        0\n",
      "3   40    male    rent        0\n",
      "4   40    male    rent        0\n"
     ]
    }
   ],
   "source": [
    "# define columns with numerical and categorial data\n",
    "columns_numerical = [0]\n",
    "columns_categorial = [1,2]\n",
    "\n",
    "column_names_numerical = list(df_test.columns[columns_numerical].values)\n",
    "column_names_categorial = list(df_test.columns[columns_categorial].values)\n",
    "\n",
    "# k-prototypes algorithm\n",
    "kp = KPrototypes(n_clusters=2, init='Huang', n_init=1, verbose=1)\n",
    "clusters = kp.fit_predict(df_test, categorical=columns_categorial)\n",
    "\n",
    "# add cluster info to data\n",
    "df_test['Cluster'] = clusters\n",
    "\n",
    "print(\"\\n\", df_test.head())"
   ]
  },
  {
   "cell_type": "markdown",
   "metadata": {},
   "source": [
    "Der erste Blick auf die Clusterzugehörigkeit scheint unser erwartetes Ergebnis erzeugt zu haben. Um die Zuordnung aber über alle Daten zu prüfen, analysieren wir die Clusterbildung noch etwas detaillierter."
   ]
  },
  {
   "cell_type": "code",
   "execution_count": 4,
   "metadata": {},
   "outputs": [
    {
     "name": "stdout",
     "output_type": "stream",
     "text": [
      "         Age  male  female  rent  own  Count  Share\n",
      "Cluster                                            \n",
      "0         40   1.0     0.0   1.0  0.0    690   0.69\n",
      "1         30   0.0     1.0   0.0  1.0    310   0.31\n"
     ]
    }
   ],
   "source": [
    "# cluster analysis\n",
    "df_cluster_analysis = df_test.copy()\n",
    "columns_names_cluster_analysis = []\n",
    "for i in column_names_categorial:\n",
    "    list_unique = list(df_test[i].unique())\n",
    "        \n",
    "    for k in list_unique:\n",
    "        count_current = len(df_test[df_test[i]==k])\n",
    "        \n",
    "        df_cluster_analysis[k] = 0\n",
    "        df_cluster_analysis.loc[df_cluster_analysis[i] == k, [k]] = 1/count_current\n",
    "        \n",
    "        columns_names_cluster_analysis.append(k)\n",
    "\n",
    "# numerical data\n",
    "df_cluster_analysis_numerical = df_cluster_analysis[column_names_numerical+['Cluster']].groupby(['Cluster']).mean()\n",
    "\n",
    "# categorial data\n",
    "df_cluster_analysis_categorial = df_cluster_analysis[columns_names_cluster_analysis+['Cluster']].groupby(['Cluster']).sum()\n",
    "\n",
    "# all data\n",
    "df_cluster_analysis = pd.concat([df_cluster_analysis_numerical, df_cluster_analysis_categorial], axis=1)\n",
    "df_cluster_analysis['Count'] = df_test['Cluster'].value_counts().sort_index() \n",
    "df_cluster_analysis['Share'] = df_test['Cluster'].value_counts(normalize=True).sort_index() \n",
    "\n",
    "print(df_cluster_analysis.head())"
   ]
  },
  {
   "cell_type": "markdown",
   "metadata": {},
   "source": [
    "Cluster \"0\" hat ein Durchschnittsalter von 30 Jahren und 100% der Frauen sowie 100% der Kunden mit Eigenheim sind diesem Cluster zugeordnet. Cluster \"1\" hat ein Durchschnittsalter von 40 Jahren und 100% der Männer sowie 100% der Kunden mit Mietwohnungen sind diesem Cluster zugeordnet. Die Clusterbildung der Test-Daten ist also wie erwartet erfolgt, sodass wir uns nun wieder den originalen Daten widmen können, wobei wir auch hier eine Auswahl der vorhandenen Attribute treffen."
   ]
  },
  {
   "cell_type": "code",
   "execution_count": 5,
   "metadata": {},
   "outputs": [
    {
     "name": "stdout",
     "output_type": "stream",
     "text": [
      "samples: 1000 \n",
      "\n",
      "   Age  Job Housing  Credit amount\n",
      "0   67    2     own           1169\n",
      "1   22    2     own           5951\n",
      "2   49    1     own           2096\n",
      "3   45    2    free           7882\n",
      "4   53    2    free           4870\n"
     ]
    }
   ],
   "source": [
    "# import additional packages\n",
    "import numpy as np\n",
    "import matplotlib.pyplot as plt\n",
    "from sklearn.preprocessing import MinMaxScaler\n",
    "\n",
    "# delete first columns with index\n",
    "df_filtered = df_raw_data.drop(df_raw_data.columns[0], axis=1)\n",
    "\n",
    "# select columns\n",
    "df_filtered = df_filtered[['Age','Job','Housing','Credit amount']]\n",
    "\n",
    "print(\"samples:\", len(df_filtered), \"\\n\")\n",
    "\n",
    "print(df_filtered.head())"
   ]
  },
  {
   "cell_type": "markdown",
   "metadata": {},
   "source": [
    "Da die Jobbezeichnungen in den Rohdaten noch mit Integer Werten codiert sind, benennen wir diese entsprechend der dem Datensatz beigefügten Datenbeschreibung um. Außerdem normieren wir die numerischen Daten mittels MinMax-Skalierung, bei der der jeweils größte Wert einer Spalte nach der Skalierung den Wert 1 besitzt und der kleinste den Wert 0. Dieser Zwischenschritt soll verhindern, dass die unterschiedlichen Größenordnungen der Werte von Alter und Kredithöhe die Distanzberechnung beeinflussen. Für die spätere Rücktransformation müssen wir uns die jeweils kleinsten und größten Werte merken."
   ]
  },
  {
   "cell_type": "code",
   "execution_count": 9,
   "metadata": {},
   "outputs": [],
   "source": [
    "# rename certain data for easier interpretability\n",
    "df_filtered['Job'] = df_filtered['Job'].replace({0 : 'unskilled non resident', 1 : 'unskilled resident', 2 : 'skilled', 3 : 'highly skilled'})\n",
    "\n",
    "# min-max-scaling\n",
    "max_age = df_filtered['Age'].max()\n",
    "min_age = df_filtered['Age'].min()\n",
    "\n",
    "max_credit = df_filtered['Credit amount'].max()\n",
    "min_credit = df_filtered['Credit amount'].min()\n",
    "\n",
    "scaler = MinMaxScaler()\n",
    "df_filtered['Age'] = scaler.fit_transform(df_filtered['Age'].values.reshape(-1,1))\n",
    "df_filtered['Credit amount'] = scaler.fit_transform(df_filtered['Credit amount'].values.reshape(-1,1))"
   ]
  },
  {
   "cell_type": "markdown",
   "metadata": {},
   "source": [
    "Nun folgt das k-Prototype Clustering, wobei wir zunächst identifizieren wollen, wieviele Cluster sinnvollerweise gewählt werden sollten. Dazu variieren wir die Anzahl der Cluster und führen das Verfahren mehrfach mit den unterschiedlichen Werten für k durch."
   ]
  },
  {
   "cell_type": "code",
   "execution_count": 7,
   "metadata": {},
   "outputs": [
    {
     "data": {
      "text/plain": [
       "Text(0,0.5,'loss')"
      ]
     },
     "execution_count": 7,
     "metadata": {},
     "output_type": "execute_result"
    },
    {
     "data": {
      "image/png": "[encoded data removed]",
      "text/plain": [
       "<matplotlib.figure.Figure at 0x14732198>"
      ]
     },
     "metadata": {
      "needs_background": "light"
     },
     "output_type": "display_data"
    }
   ],
   "source": [
    "# define columns with numerical and categorial data\n",
    "columns_numerical = [0,3]\n",
    "columns_categorial = [1,2]\n",
    "\n",
    "column_names_numerical = list(df_filtered.columns[columns_numerical].values)\n",
    "column_names_categorial = list(df_filtered.columns[columns_categorial].values)\n",
    "\n",
    "# elbow \n",
    "cost = []\n",
    "cluster_range = range(1,20)\n",
    "for num_clusters in list(cluster_range):\n",
    "    kp = KPrototypes(n_clusters=num_clusters, init='Huang', n_init=1, verbose=0, random_state=1)\n",
    "    kp.fit_predict(df_filtered, categorical=columns_categorial)\n",
    "    cost.append(kp.cost_)\n",
    "    \n",
    "x = np.array([i for i in cluster_range])\n",
    "cost = np.array(cost)\n",
    "\n",
    "plt.plot(x, cost)\n",
    "\n",
    "plt.xlabel('k')\n",
    "plt.ylabel('loss')"
   ]
  },
  {
   "cell_type": "markdown",
   "metadata": {},
   "source": [
    "In diesem Plot sehen wir den Zielfunktionswert der jeweiligen Optimierung über die verschiedenen Clusteranzahlen aufgetragen. Wie oben beschrieben gibt dieser Wert die Summe der Distanzen zwischen den Clusterschwerpunkten und den jeweiligen Datenpunkten in einem Cluster an. Je mehr Cluster gebildet werden können, desto geringer werden diese Abstände und desto geringer wird der Zielfunktionswert. Neben diesem Zusammenhang erkennt man allerdings auch, dass die zusätzliche Verbesserung mit weiteren Clustern abnimmt.\n",
    "\n",
    "Da wir im Extremfall für jeden Datenpunkt ein eigenes Cluster bilden, bei der die Clusterbildung dann keine zusätzliche Information liefert, müssen wir einen Kompromiss zwischen Anzahl der Cluster und Güte (anhand des Zielfunktionswertes) finden. Typischerweise wird daher eine Clusteranzahl gewählt, bei der die zusätzliche Verbesserung stark abnimmt, bei der also ein weiteres Cluster nicht mehr wesentlich zur Verbesserung der Güte beiträgt. Graphisch interpretiert ist dies der Punkt, an dem die oben abgebildete Kurve stark knickt, sodass in diesem Fall k=7 eine sinnvolle Wahl erscheint. Aufgrund der Suche nach dem \"Knick\" bei diesem Vorgehen, wird diese Technik auch als \"elbow method\" bezeichnet. \n",
    "\n",
    "Wir führen also das k-Prototype Clustering mit k=7 auf den gefilterten und normierten Werten durch."
   ]
  },
  {
   "cell_type": "code",
   "execution_count": 8,
   "metadata": {},
   "outputs": [
    {
     "name": "stdout",
     "output_type": "stream",
     "text": [
      "\n",
      "                Age  Credit amount   skilled  unskilled resident  \\\n",
      "Cluster                                                           \n",
      "0        35.574468    4000.244681  0.000000                0.00   \n",
      "1        30.234973    2912.879781  0.573016                0.00   \n",
      "2        38.020408   11679.122449  0.019048                0.02   \n",
      "3        35.448718    2166.205128  0.000000                0.77   \n",
      "4        44.769231    3553.107692  0.087302                0.02   \n",
      "5        26.433566    2730.860140  0.173016                0.11   \n",
      "6        55.535433    2342.133858  0.147619                0.08   \n",
      "\n",
      "         highly skilled  unskilled non resident       own      free      rent  \\\n",
      "Cluster                                                                         \n",
      "0              0.628378                0.045455  0.107994  0.074074  0.050279   \n",
      "1              0.000000                0.227273  0.513324  0.000000  0.000000   \n",
      "2              0.216216                0.045455  0.026648  0.212963  0.039106   \n",
      "3              0.000000                0.090909  0.197756  0.027778  0.067039   \n",
      "4              0.027027                0.090909  0.000000  0.564815  0.022346   \n",
      "5              0.047297                0.227273  0.000000  0.046296  0.770950   \n",
      "6              0.081081                0.272727  0.154278  0.074074  0.050279   \n",
      "\n",
      "         Count  Share  \n",
      "Cluster                \n",
      "0           94  0.094  \n",
      "1          366  0.366  \n",
      "2           49  0.049  \n",
      "3          156  0.156  \n",
      "4           65  0.065  \n",
      "5          143  0.143  \n",
      "6          127  0.127  \n"
     ]
    }
   ],
   "source": [
    "# k-prototypes algorithm\n",
    "kp = KPrototypes(n_clusters=7, init='Huang', n_init=1, verbose=0, random_state=1)\n",
    "\n",
    "clusters = kp.fit_predict(df_filtered, categorical=columns_categorial)\n",
    "\n",
    "# add cluster info to data\n",
    "df_filtered['Cluster'] = clusters\n",
    "\n",
    "# back transformation of min-max-scaling\n",
    "df_filtered['Age'] = df_filtered['Age']*(max_age-min_age)+min_age\n",
    "df_filtered['Credit amount'] = df_filtered['Credit amount']*(max_credit-min_credit)+min_credit\n",
    "\n",
    "# cluster analysis\n",
    "df_cluster_analysis = df_filtered.copy()\n",
    "columns_names_cluster_analysis = []\n",
    "for i in column_names_categorial:\n",
    "    list_unique = list(df_filtered[i].unique())\n",
    "        \n",
    "    for k in list_unique:\n",
    "        count_current = len(df_filtered[df_filtered[i]==k])\n",
    "        \n",
    "        df_cluster_analysis[k] = 0\n",
    "        df_cluster_analysis.loc[df_cluster_analysis[i] == k, [k]] = 1/count_current\n",
    "        \n",
    "        columns_names_cluster_analysis.append(k)  \n",
    "        \n",
    "# numerical data\n",
    "df_cluster_analysis_numerical = df_cluster_analysis[column_names_numerical+['Cluster']].groupby(['Cluster']).mean()\n",
    "\n",
    "# categorial data\n",
    "df_cluster_analysis_categorial = df_cluster_analysis[columns_names_cluster_analysis+['Cluster']].groupby(['Cluster']).sum()\n",
    "\n",
    "# all data\n",
    "df_cluster_analysis = pd.concat([df_cluster_analysis_numerical, df_cluster_analysis_categorial], axis=1)\n",
    "df_cluster_analysis['Count'] = df_filtered['Cluster'].value_counts().sort_index() \n",
    "df_cluster_analysis['Share'] = df_filtered['Cluster'].value_counts(normalize=True).sort_index() \n",
    "\n",
    "print(\"\\n\", df_cluster_analysis)"
   ]
  },
  {
   "cell_type": "markdown",
   "metadata": {},
   "source": [
    "Die abgebildete Zusammenfassung der Clusterbildung gibt für die numerischen Daten, also Alter und Kredithöhe, Auskunft über die durchschnittlichen Werte eines Clusters. Cluster \"5\" zeichnet sich zum Beispiel durch den geringsten Altersdurchschnitt von 26.43 Jahren aus, Cluster \"3\" durch die geringste durchschnittliche Kredithöhe von 2166.21€.\n",
    "\n",
    "Für die kategorischen Attribute geben die Spalten jeweils an, wie sich die unterschiedlichen Attributausprägungen prozentual auf die Cluster aufteilen. Das berufsbezeichnende Attribut \"Job\" hat die Ausprägungen \"unskilled non resident, unskilled resident, skilled, highly skilled\". Zu Cluster \"0\" beispielsweise gehören 0% der Kunden mit Einschätzung \"skilled\" oder \"unskilled resident\", dagegen gehören 62.8% der \"highly skilled\" Kunden zu diesem Cluster.\n",
    "\n",
    "Spannend ist natürlich die Frage, ob diese zusätzlichen Informationen aus dem Clustering nun eine Interpretation zulassen. Auffällig ist, dass das Cluster mit der geringsten durchschnittlichen Kredithöhe, Cluster \"3\", auch dasjenige ist, zu dem 0% der \"skilled\" oder \"highly skilled\"\" Kunden gehören. Diese Beobachtungen legen nahe, dass es sich bei diesem Cluster um eine Berufsgruppe mit eher geringer Qualifikation (und vermutlich geringerem Einkommen) handelt, die Kredite in eher kleiner Höhe aufnehmen möchte oder von der Bank nur diese Kleinkredite erhält. In gewisser Weise das Gegenstück dazu bilden Cluster \"0\" und \"2\", die die höchsten durchschnittlichen Kredite aufweisen und zu denen der Großteil der \"highly skilled\" Berufsgruppen gehören. Ohne Genaueres über die Bank, ihre Geschäftspraktiken oder die Kunden zu wissen, scheinen also ein paar sinnvolle Zusammenhönge durch das Clustering identifierbar zu sein."
   ]
  }
 ],
 "metadata": {
  "kernelspec": {
   "display_name": "Python 3",
   "language": "python",
   "name": "python3"
  },
  "language_info": {
   "codemirror_mode": {
    "name": "ipython",
    "version": 3
   },
   "file_extension": ".py",
   "mimetype": "text/x-python",
   "name": "python",
   "nbconvert_exporter": "python",
   "pygments_lexer": "ipython3",
   "version": "3.6.4"
  }
 },
 "nbformat": 4,
 "nbformat_minor": 2
}
